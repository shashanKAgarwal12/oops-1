{
 "cells": [
  {
   "cell_type": "markdown",
   "id": "6ecad69b-394d-476d-99a9-07eb261553a5",
   "metadata": {},
   "source": [
    "## Answer No.1"
   ]
  },
  {
   "cell_type": "code",
   "execution_count": 8,
   "id": "ce2222ee-d3d3-4ab3-a7f4-8a86f1627ae3",
   "metadata": {},
   "outputs": [],
   "source": [
    "class vehicle:\n",
    "    def __init__(self, name_of_vehicle , max_speed , average_of_vehicle ):\n",
    "        self.name_of_vehicle = name_of_vehicle\n",
    "        self.max_speed = max_speed\n",
    "        self.average_of_vehicle = average_of_vehicle\n",
    "        \n",
    "    def vehicle_details(self):\n",
    "        return self.name_of_vehicle, self.max_speed, self.average_of_vehicle"
   ]
  },
  {
   "cell_type": "code",
   "execution_count": 13,
   "id": "6709e84a-9b57-4e4b-848a-12f4b1b69591",
   "metadata": {},
   "outputs": [],
   "source": [
    "Bike = vehicle(\"shine\" , 100, \"65 Kmpl\")"
   ]
  },
  {
   "cell_type": "code",
   "execution_count": 10,
   "id": "5e90fd4a-d9ce-4807-b766-de61b1fd86a6",
   "metadata": {},
   "outputs": [
    {
     "data": {
      "text/plain": [
       "'shine'"
      ]
     },
     "execution_count": 10,
     "metadata": {},
     "output_type": "execute_result"
    }
   ],
   "source": [
    "Bike.name_of_vehicle"
   ]
  },
  {
   "cell_type": "code",
   "execution_count": 14,
   "id": "69a0de86-f469-405f-ac86-78670235bd67",
   "metadata": {},
   "outputs": [
    {
     "data": {
      "text/plain": [
       "100"
      ]
     },
     "execution_count": 14,
     "metadata": {},
     "output_type": "execute_result"
    }
   ],
   "source": [
    "Bike.max_speed"
   ]
  },
  {
   "cell_type": "code",
   "execution_count": 15,
   "id": "cd6240d6-109f-435c-b7f5-058c8d87b068",
   "metadata": {},
   "outputs": [
    {
     "data": {
      "text/plain": [
       "'65 Kmpl'"
      ]
     },
     "execution_count": 15,
     "metadata": {},
     "output_type": "execute_result"
    }
   ],
   "source": [
    "Bike.average_of_vehicle"
   ]
  },
  {
   "cell_type": "markdown",
   "id": "431aa9a2-a65c-4020-b62d-1556990e772f",
   "metadata": {},
   "source": [
    "## Answer No.2"
   ]
  },
  {
   "cell_type": "code",
   "execution_count": 7,
   "id": "efa74481-260d-45c5-b953-963f5716f89e",
   "metadata": {},
   "outputs": [],
   "source": [
    "class vehicle:\n",
    "    def vehicle1(self, name_of_vehicle , max_speed , average_of_vehicle,  seating_capacity):\n",
    "        self.name_of_vehicle = name_of_vehicle\n",
    "        self.max_speed = max_speed\n",
    "        self.average_of_vehicle = average_of_vehicle\n",
    "        self.seating_capacity = seating_capacity\n",
    "        \n",
    "    def vehicle_details(self):\n",
    "        return self.name_of_vehicle, self.max_speed, self.average_of_vehicle, self.seating_capacity"
   ]
  },
  {
   "cell_type": "code",
   "execution_count": 8,
   "id": "a72ab038-c9dc-46ca-9f6b-6deaf409505b",
   "metadata": {},
   "outputs": [],
   "source": [
    "class car(vehicle):\n",
    "    pass"
   ]
  },
  {
   "cell_type": "code",
   "execution_count": 9,
   "id": "aac4b18a-f3b1-4eb6-ade6-8139941eea24",
   "metadata": {},
   "outputs": [],
   "source": [
    "car_obj = car()"
   ]
  },
  {
   "cell_type": "code",
   "execution_count": 20,
   "id": "dce02619-86d1-4ceb-81f4-d06c9f06134d",
   "metadata": {},
   "outputs": [],
   "source": [
    "car_obj.vehicle1('shine', 100, \"65 kmpl\", \"2 seater\")"
   ]
  },
  {
   "cell_type": "code",
   "execution_count": 23,
   "id": "68704e3f-d177-4c66-8439-37b3f860c1a2",
   "metadata": {},
   "outputs": [
    {
     "data": {
      "text/plain": [
       "'2 seater'"
      ]
     },
     "execution_count": 23,
     "metadata": {},
     "output_type": "execute_result"
    }
   ],
   "source": [
    "car_obj.seating_capacity"
   ]
  },
  {
   "cell_type": "code",
   "execution_count": 24,
   "id": "3eaec063-371a-4e75-8586-7639e120caca",
   "metadata": {},
   "outputs": [
    {
     "data": {
      "text/plain": [
       "'shine'"
      ]
     },
     "execution_count": 24,
     "metadata": {},
     "output_type": "execute_result"
    }
   ],
   "source": [
    "car_obj.name_of_vehicle"
   ]
  },
  {
   "cell_type": "code",
   "execution_count": 25,
   "id": "53a5d612-3eda-4809-9847-279b49427186",
   "metadata": {},
   "outputs": [
    {
     "data": {
      "text/plain": [
       "100"
      ]
     },
     "execution_count": 25,
     "metadata": {},
     "output_type": "execute_result"
    }
   ],
   "source": [
    "car_obj.max_speed"
   ]
  },
  {
   "cell_type": "code",
   "execution_count": 26,
   "id": "3f758e6a-0387-40ec-a5a7-3e73644f8c87",
   "metadata": {},
   "outputs": [
    {
     "data": {
      "text/plain": [
       "'65 kmpl'"
      ]
     },
     "execution_count": 26,
     "metadata": {},
     "output_type": "execute_result"
    }
   ],
   "source": [
    "car_obj.average_of_vehicle"
   ]
  },
  {
   "cell_type": "markdown",
   "id": "55c4c2cf-3fc1-4ea7-af1d-d1723cbba5e1",
   "metadata": {},
   "source": [
    "## Answer No.3"
   ]
  },
  {
   "cell_type": "code",
   "execution_count": 29,
   "id": "71a19e9b-d87e-42bc-ab47-17ac612e60da",
   "metadata": {},
   "outputs": [],
   "source": [
    "class Name:\n",
    "    def name_function(self):\n",
    "        print(\"My Name is Shashank\")"
   ]
  },
  {
   "cell_type": "code",
   "execution_count": 50,
   "id": "1353cfea-14db-4af5-a341-efd4e7e28b8e",
   "metadata": {},
   "outputs": [],
   "source": [
    "class Name2(Name):\n",
    "    def name2_function(self):\n",
    "        print(\"My Name is Pritam\")"
   ]
  },
  {
   "cell_type": "code",
   "execution_count": 51,
   "id": "b5b25d10-e512-495b-98c2-c51ecb8c4783",
   "metadata": {},
   "outputs": [],
   "source": [
    "class Name3(Name2):\n",
    "    def name3_function(self):\n",
    "        print(\"My Name is Mandeep\")"
   ]
  },
  {
   "cell_type": "code",
   "execution_count": 52,
   "id": "9c4dc55b-6104-4182-8331-994b1054445c",
   "metadata": {},
   "outputs": [],
   "source": [
    "obj_Name3 = Name3()"
   ]
  },
  {
   "cell_type": "code",
   "execution_count": 53,
   "id": "7cce8ecf-d59a-475b-8d20-8afb8a8d78a4",
   "metadata": {},
   "outputs": [
    {
     "name": "stdout",
     "output_type": "stream",
     "text": [
      "My Name is Shashank\n"
     ]
    }
   ],
   "source": [
    "obj_Name3.name_function()"
   ]
  },
  {
   "cell_type": "code",
   "execution_count": 54,
   "id": "1c36a5f1-cd01-4207-8ecc-34208fbdf7d1",
   "metadata": {},
   "outputs": [
    {
     "name": "stdout",
     "output_type": "stream",
     "text": [
      "My Name is Pritam\n"
     ]
    }
   ],
   "source": [
    "obj_Name3.name2_function()"
   ]
  },
  {
   "cell_type": "code",
   "execution_count": 55,
   "id": "906840cd-84a0-4ea9-8f77-621ca294299c",
   "metadata": {},
   "outputs": [
    {
     "name": "stdout",
     "output_type": "stream",
     "text": [
      "My Name is Mandeep\n"
     ]
    }
   ],
   "source": [
    "obj_Name3.name3_function()"
   ]
  },
  {
   "cell_type": "markdown",
   "id": "2df7520c-01ee-4db7-b9d2-a34945e118c8",
   "metadata": {},
   "source": [
    "## Answer No.4\n",
    "Getters and setters are methods used to access and modify the values of class attributes, providing a way to encapsulate and control access to class variables. Getters are used to retrieve the values of attributes, while setters are used to modify or set the values of attributes."
   ]
  },
  {
   "cell_type": "code",
   "execution_count": 15,
   "id": "8b5ccefa-2613-45a8-bb07-548b8f207cba",
   "metadata": {},
   "outputs": [
    {
     "name": "stdout",
     "output_type": "stream",
     "text": [
      "5\n",
      "Radius must be a positive value.\n"
     ]
    }
   ],
   "source": [
    "class Circle:\n",
    "    def __init__(self, radius):\n",
    "        self._radius = radius\n",
    "\n",
    "    def get_radius(self):\n",
    "        return self._radius\n",
    "\n",
    "    def set_radius(self, new_radius):\n",
    "        if new_radius > 0:\n",
    "            self._radius = new_radius\n",
    "        else:\n",
    "            print(\"Radius must be a positive value.\")\n",
    "\n",
    "\n",
    "circle = Circle(5)\n",
    "\n",
    "print(circle.get_radius())  \n",
    "\n",
    "circle.set_radius(-2)      "
   ]
  },
  {
   "cell_type": "markdown",
   "id": "944df5e9-d97d-40fc-b0b9-81096a859cb1",
   "metadata": {},
   "source": [
    "## Answer No.5\n",
    "The method overriding is achieved by defining a method with the same name in the subclass as the one in the superclass. When the method is called on an instance of the subclass, the overridden method in the subclass is executed instead of the method in the superclass."
   ]
  },
  {
   "cell_type": "code",
   "execution_count": 16,
   "id": "85ca5abb-05fe-4bbd-a263-f00286d1b004",
   "metadata": {},
   "outputs": [
    {
     "name": "stdout",
     "output_type": "stream",
     "text": [
      "The animal makes a generic sound.\n",
      "The cat sounds like Meow!\n",
      "The dog sounds like Woof!\n"
     ]
    }
   ],
   "source": [
    "class Animal:\n",
    "    def make_sound(self):\n",
    "        print(\"The animal makes a generic sound.\")\n",
    "\n",
    "class Cat(Animal):\n",
    "    def make_sound(self):\n",
    "        print(\"The cat sounds like Meow!\")\n",
    "\n",
    "class Dog(Animal):\n",
    "    def make_sound(self):\n",
    "        print(\"The dog sounds like Woof!\")\n",
    "\n",
    "animal = Animal()\n",
    "cat = Cat()\n",
    "dog = Dog()\n",
    "\n",
    "animal.make_sound() \n",
    "cat.make_sound()     \n",
    "dog.make_sound()"
   ]
  }
 ],
 "metadata": {
  "kernelspec": {
   "display_name": "Python 3 (ipykernel)",
   "language": "python",
   "name": "python3"
  },
  "language_info": {
   "codemirror_mode": {
    "name": "ipython",
    "version": 3
   },
   "file_extension": ".py",
   "mimetype": "text/x-python",
   "name": "python",
   "nbconvert_exporter": "python",
   "pygments_lexer": "ipython3",
   "version": "3.10.8"
  }
 },
 "nbformat": 4,
 "nbformat_minor": 5
}
